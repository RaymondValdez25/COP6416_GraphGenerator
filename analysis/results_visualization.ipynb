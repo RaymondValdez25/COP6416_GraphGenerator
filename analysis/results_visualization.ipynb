{
 "cells": [
  {
   "cell_type": "code",
   "execution_count": 67,
   "metadata": {},
   "outputs": [],
   "source": [
    "# libraries\n",
    "import matplotlib.pyplot as plt \n",
    "import numpy as np \n",
    "import seaborn as sns \n",
    "import pandas as pd \n"
   ]
  },
  {
   "cell_type": "code",
   "execution_count": 68,
   "metadata": {},
   "outputs": [
    {
     "data": {
      "text/html": [
       "<div>\n",
       "<style scoped>\n",
       "    .dataframe tbody tr th:only-of-type {\n",
       "        vertical-align: middle;\n",
       "    }\n",
       "\n",
       "    .dataframe tbody tr th {\n",
       "        vertical-align: top;\n",
       "    }\n",
       "\n",
       "    .dataframe thead th {\n",
       "        text-align: right;\n",
       "    }\n",
       "</style>\n",
       "<table border=\"1\" class=\"dataframe\">\n",
       "  <thead>\n",
       "    <tr style=\"text-align: right;\">\n",
       "      <th></th>\n",
       "      <th>Algo</th>\n",
       "      <th>GraphSize</th>\n",
       "      <th>PQType</th>\n",
       "      <th>Result_ms</th>\n",
       "    </tr>\n",
       "  </thead>\n",
       "  <tbody>\n",
       "    <tr>\n",
       "      <th>0</th>\n",
       "      <td>AStar</td>\n",
       "      <td>Small</td>\n",
       "      <td>BMH</td>\n",
       "      <td>0.0720</td>\n",
       "    </tr>\n",
       "    <tr>\n",
       "      <th>1</th>\n",
       "      <td>AStar</td>\n",
       "      <td>Small</td>\n",
       "      <td>LL</td>\n",
       "      <td>0.0357</td>\n",
       "    </tr>\n",
       "    <tr>\n",
       "      <th>2</th>\n",
       "      <td>AStar</td>\n",
       "      <td>Big</td>\n",
       "      <td>BMH</td>\n",
       "      <td>6.8865</td>\n",
       "    </tr>\n",
       "    <tr>\n",
       "      <th>3</th>\n",
       "      <td>AStar</td>\n",
       "      <td>Big</td>\n",
       "      <td>LL</td>\n",
       "      <td>8.0247</td>\n",
       "    </tr>\n",
       "    <tr>\n",
       "      <th>4</th>\n",
       "      <td>Prims</td>\n",
       "      <td>Small</td>\n",
       "      <td>BMH</td>\n",
       "      <td>0.1314</td>\n",
       "    </tr>\n",
       "    <tr>\n",
       "      <th>5</th>\n",
       "      <td>Prims</td>\n",
       "      <td>Small</td>\n",
       "      <td>LL</td>\n",
       "      <td>0.0540</td>\n",
       "    </tr>\n",
       "    <tr>\n",
       "      <th>6</th>\n",
       "      <td>Prims</td>\n",
       "      <td>Big</td>\n",
       "      <td>BMH</td>\n",
       "      <td>12.7565</td>\n",
       "    </tr>\n",
       "    <tr>\n",
       "      <th>7</th>\n",
       "      <td>Prims</td>\n",
       "      <td>Big</td>\n",
       "      <td>LL</td>\n",
       "      <td>17.7865</td>\n",
       "    </tr>\n",
       "  </tbody>\n",
       "</table>\n",
       "</div>"
      ],
      "text/plain": [
       "    Algo GraphSize PQType  Result_ms\n",
       "0  AStar     Small    BMH     0.0720\n",
       "1  AStar     Small     LL     0.0357\n",
       "2  AStar       Big    BMH     6.8865\n",
       "3  AStar       Big     LL     8.0247\n",
       "4  Prims     Small    BMH     0.1314\n",
       "5  Prims     Small     LL     0.0540\n",
       "6  Prims       Big    BMH    12.7565\n",
       "7  Prims       Big     LL    17.7865"
      ]
     },
     "execution_count": 68,
     "metadata": {},
     "output_type": "execute_result"
    }
   ],
   "source": [
    "# read data \n",
    "results = pd.read_csv('data_analysis.csv')\n",
    "\n",
    "df = pd.DataFrame(results)\n",
    "df"
   ]
  },
  {
   "cell_type": "code",
   "execution_count": 69,
   "metadata": {},
   "outputs": [],
   "source": [
    "small_graph = df.loc[df['GraphSize'] == \"Small\"]\n",
    "large_graph = df.loc[df['GraphSize'] == \"Big\"]\n"
   ]
  },
  {
   "cell_type": "code",
   "execution_count": 70,
   "metadata": {},
   "outputs": [
    {
     "data": {
      "text/html": [
       "<div>\n",
       "<style scoped>\n",
       "    .dataframe tbody tr th:only-of-type {\n",
       "        vertical-align: middle;\n",
       "    }\n",
       "\n",
       "    .dataframe tbody tr th {\n",
       "        vertical-align: top;\n",
       "    }\n",
       "\n",
       "    .dataframe thead th {\n",
       "        text-align: right;\n",
       "    }\n",
       "</style>\n",
       "<table border=\"1\" class=\"dataframe\">\n",
       "  <thead>\n",
       "    <tr style=\"text-align: right;\">\n",
       "      <th></th>\n",
       "      <th>Algo</th>\n",
       "      <th>GraphSize</th>\n",
       "      <th>PQType</th>\n",
       "      <th>Result_ms</th>\n",
       "    </tr>\n",
       "  </thead>\n",
       "  <tbody>\n",
       "    <tr>\n",
       "      <th>2</th>\n",
       "      <td>AStar</td>\n",
       "      <td>Big</td>\n",
       "      <td>BMH</td>\n",
       "      <td>6.8865</td>\n",
       "    </tr>\n",
       "    <tr>\n",
       "      <th>3</th>\n",
       "      <td>AStar</td>\n",
       "      <td>Big</td>\n",
       "      <td>LL</td>\n",
       "      <td>8.0247</td>\n",
       "    </tr>\n",
       "    <tr>\n",
       "      <th>6</th>\n",
       "      <td>Prims</td>\n",
       "      <td>Big</td>\n",
       "      <td>BMH</td>\n",
       "      <td>12.7565</td>\n",
       "    </tr>\n",
       "    <tr>\n",
       "      <th>7</th>\n",
       "      <td>Prims</td>\n",
       "      <td>Big</td>\n",
       "      <td>LL</td>\n",
       "      <td>17.7865</td>\n",
       "    </tr>\n",
       "  </tbody>\n",
       "</table>\n",
       "</div>"
      ],
      "text/plain": [
       "    Algo GraphSize PQType  Result_ms\n",
       "2  AStar       Big    BMH     6.8865\n",
       "3  AStar       Big     LL     8.0247\n",
       "6  Prims       Big    BMH    12.7565\n",
       "7  Prims       Big     LL    17.7865"
      ]
     },
     "execution_count": 70,
     "metadata": {},
     "output_type": "execute_result"
    }
   ],
   "source": [
    "large_graph\n"
   ]
  },
  {
   "cell_type": "code",
   "execution_count": 71,
   "metadata": {},
   "outputs": [
    {
     "data": {
      "text/html": [
       "<div>\n",
       "<style scoped>\n",
       "    .dataframe tbody tr th:only-of-type {\n",
       "        vertical-align: middle;\n",
       "    }\n",
       "\n",
       "    .dataframe tbody tr th {\n",
       "        vertical-align: top;\n",
       "    }\n",
       "\n",
       "    .dataframe thead th {\n",
       "        text-align: right;\n",
       "    }\n",
       "</style>\n",
       "<table border=\"1\" class=\"dataframe\">\n",
       "  <thead>\n",
       "    <tr style=\"text-align: right;\">\n",
       "      <th></th>\n",
       "      <th>Algo</th>\n",
       "      <th>GraphSize</th>\n",
       "      <th>PQType</th>\n",
       "      <th>Result_ms</th>\n",
       "    </tr>\n",
       "  </thead>\n",
       "  <tbody>\n",
       "    <tr>\n",
       "      <th>0</th>\n",
       "      <td>AStar</td>\n",
       "      <td>Small</td>\n",
       "      <td>BMH</td>\n",
       "      <td>0.0720</td>\n",
       "    </tr>\n",
       "    <tr>\n",
       "      <th>1</th>\n",
       "      <td>AStar</td>\n",
       "      <td>Small</td>\n",
       "      <td>LL</td>\n",
       "      <td>0.0357</td>\n",
       "    </tr>\n",
       "    <tr>\n",
       "      <th>4</th>\n",
       "      <td>Prims</td>\n",
       "      <td>Small</td>\n",
       "      <td>BMH</td>\n",
       "      <td>0.1314</td>\n",
       "    </tr>\n",
       "    <tr>\n",
       "      <th>5</th>\n",
       "      <td>Prims</td>\n",
       "      <td>Small</td>\n",
       "      <td>LL</td>\n",
       "      <td>0.0540</td>\n",
       "    </tr>\n",
       "  </tbody>\n",
       "</table>\n",
       "</div>"
      ],
      "text/plain": [
       "    Algo GraphSize PQType  Result_ms\n",
       "0  AStar     Small    BMH     0.0720\n",
       "1  AStar     Small     LL     0.0357\n",
       "4  Prims     Small    BMH     0.1314\n",
       "5  Prims     Small     LL     0.0540"
      ]
     },
     "execution_count": 71,
     "metadata": {},
     "output_type": "execute_result"
    }
   ],
   "source": [
    "small_graph"
   ]
  },
  {
   "cell_type": "code",
   "execution_count": 72,
   "metadata": {},
   "outputs": [
    {
     "data": {
      "image/png": "[encoded data removed]",
      "text/plain": [
       "<Figure size 568.1x504 with 1 Axes>"
      ]
     },
     "metadata": {},
     "output_type": "display_data"
    }
   ],
   "source": [
    "sns.set(style=\"whitegrid\")\n",
    "# sns.set_context(\"paper\")\n",
    "\n",
    "\n",
    "g = sns.catplot(\n",
    "    data=large_graph, kind=\"bar\",\n",
    "    x=\"Algo\", y=\"Result_ms\",\n",
    "    hue=\"PQType\",\n",
    "    palette=\"coolwarm\",\n",
    "    height=7, # change the hight of plot\n",
    "    aspect=1, # adjust aspect ratio\n",
    "    \n",
    ")\n",
    "g.set_axis_labels(\"Large Size Graph\", \"Result (ms)\")\n",
    "g.set_titles(\"Graph Size: {col_name}\")\n",
    "plt.show()"
   ]
  },
  {
   "cell_type": "code",
   "execution_count": 73,
   "metadata": {},
   "outputs": [
    {
     "data": {
      "image/png": "[encoded data removed]",
      "text/plain": [
       "<Figure size 568.1x504 with 1 Axes>"
      ]
     },
     "metadata": {},
     "output_type": "display_data"
    }
   ],
   "source": [
    "sns.set(style=\"whitegrid\")\n",
    "g = sns.catplot(\n",
    "    data=small_graph, kind=\"bar\",\n",
    "    x=\"Algo\", y=\"Result_ms\",\n",
    "    hue=\"PQType\",\n",
    "    palette=\"coolwarm\",\n",
    "    height=7, # change the hight of plot\n",
    "    aspect=1, # adjust aspect ratio\n",
    "    \n",
    ")\n",
    "g.set_axis_labels(\"Small Size Graph\", \"Result (ms)\")\n",
    "g.set_titles(\"Graph Size: {col_name}\")\n",
    "\n",
    "plt.show()"
   ]
  },
  {
   "cell_type": "code",
   "execution_count": 74,
   "metadata": {},
   "outputs": [
    {
     "data": {
      "text/plain": [
       "Index(['Algo', 'GraphSize', 'PQType', 'Result_ms'], dtype='object')"
      ]
     },
     "execution_count": 74,
     "metadata": {},
     "output_type": "execute_result"
    }
   ],
   "source": [
    "df.columns"
   ]
  },
  {
   "cell_type": "code",
   "execution_count": 75,
   "metadata": {},
   "outputs": [
    {
     "data": {
      "image/png": "[encoded data removed]",
      "text/plain": [
       "<Figure size 432x288 with 1 Axes>"
      ]
     },
     "metadata": {},
     "output_type": "display_data"
    }
   ],
   "source": [
    "g = sns.boxplot(\n",
    "    data=df,\n",
    "    x=\"Algo\", y=\"Result_ms\",\n",
    "    hue=\"PQType\",  \n",
    ")\n",
    "\n"
   ]
  },
  {
   "cell_type": "code",
   "execution_count": 76,
   "metadata": {},
   "outputs": [
    {
     "data": {
      "text/html": [
       "<div>\n",
       "<style scoped>\n",
       "    .dataframe tbody tr th:only-of-type {\n",
       "        vertical-align: middle;\n",
       "    }\n",
       "\n",
       "    .dataframe tbody tr th {\n",
       "        vertical-align: top;\n",
       "    }\n",
       "\n",
       "    .dataframe thead th {\n",
       "        text-align: right;\n",
       "    }\n",
       "</style>\n",
       "<table border=\"1\" class=\"dataframe\">\n",
       "  <thead>\n",
       "    <tr style=\"text-align: right;\">\n",
       "      <th></th>\n",
       "      <th>Algo</th>\n",
       "      <th>GraphSize</th>\n",
       "      <th>PQType</th>\n",
       "      <th>Result_ms</th>\n",
       "      <th>Algo_PQType</th>\n",
       "    </tr>\n",
       "  </thead>\n",
       "  <tbody>\n",
       "    <tr>\n",
       "      <th>0</th>\n",
       "      <td>AStar</td>\n",
       "      <td>5</td>\n",
       "      <td>BMH</td>\n",
       "      <td>0.0758</td>\n",
       "      <td>AStar-BMH</td>\n",
       "    </tr>\n",
       "    <tr>\n",
       "      <th>1</th>\n",
       "      <td>AStar</td>\n",
       "      <td>5</td>\n",
       "      <td>LL</td>\n",
       "      <td>0.0355</td>\n",
       "      <td>AStar-LL</td>\n",
       "    </tr>\n",
       "    <tr>\n",
       "      <th>2</th>\n",
       "      <td>Prims</td>\n",
       "      <td>5</td>\n",
       "      <td>BMH</td>\n",
       "      <td>0.0751</td>\n",
       "      <td>Prims-BMH</td>\n",
       "    </tr>\n",
       "    <tr>\n",
       "      <th>3</th>\n",
       "      <td>Prims</td>\n",
       "      <td>5</td>\n",
       "      <td>LL</td>\n",
       "      <td>0.0347</td>\n",
       "      <td>Prims-LL</td>\n",
       "    </tr>\n",
       "    <tr>\n",
       "      <th>4</th>\n",
       "      <td>AStar</td>\n",
       "      <td>6</td>\n",
       "      <td>BMH</td>\n",
       "      <td>0.0516</td>\n",
       "      <td>AStar-BMH</td>\n",
       "    </tr>\n",
       "    <tr>\n",
       "      <th>...</th>\n",
       "      <td>...</td>\n",
       "      <td>...</td>\n",
       "      <td>...</td>\n",
       "      <td>...</td>\n",
       "      <td>...</td>\n",
       "    </tr>\n",
       "    <tr>\n",
       "      <th>375</th>\n",
       "      <td>Prims</td>\n",
       "      <td>98</td>\n",
       "      <td>LL</td>\n",
       "      <td>12.8795</td>\n",
       "      <td>Prims-LL</td>\n",
       "    </tr>\n",
       "    <tr>\n",
       "      <th>376</th>\n",
       "      <td>AStar</td>\n",
       "      <td>99</td>\n",
       "      <td>BMH</td>\n",
       "      <td>1.6022</td>\n",
       "      <td>AStar-BMH</td>\n",
       "    </tr>\n",
       "    <tr>\n",
       "      <th>377</th>\n",
       "      <td>AStar</td>\n",
       "      <td>99</td>\n",
       "      <td>LL</td>\n",
       "      <td>1.5923</td>\n",
       "      <td>AStar-LL</td>\n",
       "    </tr>\n",
       "    <tr>\n",
       "      <th>378</th>\n",
       "      <td>Prims</td>\n",
       "      <td>99</td>\n",
       "      <td>BMH</td>\n",
       "      <td>8.4920</td>\n",
       "      <td>Prims-BMH</td>\n",
       "    </tr>\n",
       "    <tr>\n",
       "      <th>379</th>\n",
       "      <td>Prims</td>\n",
       "      <td>99</td>\n",
       "      <td>LL</td>\n",
       "      <td>13.0460</td>\n",
       "      <td>Prims-LL</td>\n",
       "    </tr>\n",
       "  </tbody>\n",
       "</table>\n",
       "<p>380 rows × 5 columns</p>\n",
       "</div>"
      ],
      "text/plain": [
       "      Algo  GraphSize PQType  Result_ms Algo_PQType\n",
       "0    AStar          5    BMH     0.0758   AStar-BMH\n",
       "1    AStar          5     LL     0.0355    AStar-LL\n",
       "2    Prims          5    BMH     0.0751   Prims-BMH\n",
       "3    Prims          5     LL     0.0347    Prims-LL\n",
       "4    AStar          6    BMH     0.0516   AStar-BMH\n",
       "..     ...        ...    ...        ...         ...\n",
       "375  Prims         98     LL    12.8795    Prims-LL\n",
       "376  AStar         99    BMH     1.6022   AStar-BMH\n",
       "377  AStar         99     LL     1.5923    AStar-LL\n",
       "378  Prims         99    BMH     8.4920   Prims-BMH\n",
       "379  Prims         99     LL    13.0460    Prims-LL\n",
       "\n",
       "[380 rows x 5 columns]"
      ]
     },
     "execution_count": 76,
     "metadata": {},
     "output_type": "execute_result"
    }
   ],
   "source": [
    "# read data \n",
    "results = pd.read_csv('input_vs_time.csv')\n",
    "\n",
    "df = pd.DataFrame(results)\n",
    "\n",
    "# add a column for concatenation of Algo and PQType, for easier graphing\n",
    "df['Algo_PQType'] = df['Algo'] + '-' + df['PQType']\n",
    "\n",
    "df"
   ]
  },
  {
   "cell_type": "code",
   "execution_count": 77,
   "metadata": {},
   "outputs": [
    {
     "data": {
      "image/png": "[encoded data removed]",
      "text/plain": [
       "<Figure size 432x288 with 1 Axes>"
      ]
     },
     "metadata": {},
     "output_type": "display_data"
    }
   ],
   "source": [
    "plt.figure(figsize=(10, 8))\n",
    "sns.lineplot(data=df, x='GraphSize', y='Result_ms', hue='Algo_PQType')\n",
    "plt.legend(bbox_to_anchor=(1.05, 1), loc=2, borderaxespad=0.)\n",
    "plt.show()"
   ]
  }
 ],
 "metadata": {
  "kernelspec": {
   "display_name": "Python 3",
   "language": "python",
   "name": "python3"
  },
  "language_info": {
   "codemirror_mode": {
    "name": "ipython",
    "version": 3
   },
   "file_extension": ".py",
   "mimetype": "text/x-python",
   "name": "python",
   "nbconvert_exporter": "python",
   "pygments_lexer": "ipython3",
   "version": "3.11.3"
  },
  "orig_nbformat": 4
 },
 "nbformat": 4,
 "nbformat_minor": 2
}
